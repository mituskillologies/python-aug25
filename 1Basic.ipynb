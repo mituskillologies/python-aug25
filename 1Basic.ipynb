{
 "cells": [
  {
   "cell_type": "code",
   "execution_count": 2,
   "id": "3cee688a-eba4-4e40-ac8c-d4801d591b5a",
   "metadata": {},
   "outputs": [
    {
     "name": "stdout",
     "output_type": "stream",
     "text": [
      "Hello World\n"
     ]
    }
   ],
   "source": [
    "print(\"Hello World\")"
   ]
  },
  {
   "cell_type": "code",
   "execution_count": 3,
   "id": "f5921beb-8a9c-433d-b9d0-f725c2c927a6",
   "metadata": {},
   "outputs": [
    {
     "name": "stdout",
     "output_type": "stream",
     "text": [
      "Hello World\n",
      "Welcome!\n",
      "Good Bye\n"
     ]
    }
   ],
   "source": [
    "print(\"Hello World\")\n",
    "print(\"Welcome!\")\n",
    "print(\"Good Bye\")"
   ]
  },
  {
   "cell_type": "code",
   "execution_count": 4,
   "id": "ecb47d41-32d8-4cb8-bcdd-969ac4f1152c",
   "metadata": {},
   "outputs": [
    {
     "name": "stdout",
     "output_type": "stream",
     "text": [
      "15\n"
     ]
    }
   ],
   "source": [
    "x = 5\n",
    "y = 10\n",
    "z = x + y\n",
    "print(z)"
   ]
  },
  {
   "cell_type": "code",
   "execution_count": 5,
   "id": "f8c722c0-cb07-4439-b715-3d3f0137cd93",
   "metadata": {},
   "outputs": [
    {
     "name": "stdout",
     "output_type": "stream",
     "text": [
      "Addition is: 15\n"
     ]
    }
   ],
   "source": [
    "x = 5\n",
    "y = 10\n",
    "z = x + y\n",
    "print(\"Addition is:\", z)"
   ]
  },
  {
   "cell_type": "code",
   "execution_count": 6,
   "id": "ab3dd378-236b-4cd2-b0d3-f8fe3cb796fa",
   "metadata": {},
   "outputs": [
    {
     "name": "stdout",
     "output_type": "stream",
     "text": [
      "Subtraction: 45\n"
     ]
    }
   ],
   "source": [
    "num1 = 56\n",
    "num2 = 11\n",
    "result = num1 - num2\n",
    "print(\"Subtraction:\", result)"
   ]
  },
  {
   "cell_type": "code",
   "execution_count": 7,
   "id": "d20678ac-d00a-44a3-beba-f3e7625883b0",
   "metadata": {},
   "outputs": [
    {
     "ename": "SyntaxError",
     "evalue": "invalid syntax (910338704.py, line 1)",
     "output_type": "error",
     "traceback": [
      "\u001b[0;36m  Cell \u001b[0;32mIn[7], line 1\u001b[0;36m\u001b[0m\n\u001b[0;31m    pass = 34\u001b[0m\n\u001b[0m         ^\u001b[0m\n\u001b[0;31mSyntaxError\u001b[0m\u001b[0;31m:\u001b[0m invalid syntax\n"
     ]
    }
   ],
   "source": [
    "pass = 34"
   ]
  },
  {
   "cell_type": "code",
   "execution_count": 8,
   "id": "c2eefd5a-fc79-4709-8fce-8acda2869fdb",
   "metadata": {},
   "outputs": [
    {
     "data": {
      "text/plain": [
       "int"
      ]
     },
     "execution_count": 8,
     "metadata": {},
     "output_type": "execute_result"
    }
   ],
   "source": [
    "num1 = 67\n",
    "type(num1)"
   ]
  },
  {
   "cell_type": "code",
   "execution_count": 9,
   "id": "4cbb5231-b03d-4129-b789-157531b8e45d",
   "metadata": {},
   "outputs": [
    {
     "data": {
      "text/plain": [
       "float"
      ]
     },
     "execution_count": 9,
     "metadata": {},
     "output_type": "execute_result"
    }
   ],
   "source": [
    "num2 = 67.45\n",
    "type(num2)"
   ]
  },
  {
   "cell_type": "code",
   "execution_count": 10,
   "id": "5c8bf0c4-9a9e-4ff9-83b1-00498ae1b13e",
   "metadata": {},
   "outputs": [
    {
     "data": {
      "text/plain": [
       "str"
      ]
     },
     "execution_count": 10,
     "metadata": {},
     "output_type": "execute_result"
    }
   ],
   "source": [
    "name = \"Tushar\"\n",
    "type(name)"
   ]
  },
  {
   "cell_type": "code",
   "execution_count": 11,
   "id": "f0e23726-504d-4b2e-b83f-df3a1a626f92",
   "metadata": {},
   "outputs": [],
   "source": [
    "num1, num2, num3 = 67, 34, 28"
   ]
  },
  {
   "cell_type": "code",
   "execution_count": 12,
   "id": "9d255bd4-e3ec-4c8d-a30f-d52144836980",
   "metadata": {},
   "outputs": [
    {
     "name": "stdout",
     "output_type": "stream",
     "text": [
      "67 34 28\n"
     ]
    }
   ],
   "source": [
    "print(num1, num2, num3)"
   ]
  },
  {
   "cell_type": "code",
   "execution_count": 13,
   "id": "0e4e4caa-6fd2-4836-b901-ad2370787228",
   "metadata": {},
   "outputs": [],
   "source": [
    "num1 = num2 = num3 = 67"
   ]
  },
  {
   "cell_type": "code",
   "execution_count": 14,
   "id": "50c04c63-3790-4a36-8e05-83ef08f4b2c7",
   "metadata": {},
   "outputs": [
    {
     "name": "stdout",
     "output_type": "stream",
     "text": [
      "67 67 67\n"
     ]
    }
   ],
   "source": [
    "print(num1, num2, num3)"
   ]
  },
  {
   "cell_type": "code",
   "execution_count": 15,
   "id": "16b7fa90-0b5d-4b58-90df-27d11dedaa75",
   "metadata": {},
   "outputs": [],
   "source": [
    "name = \"Tushar\""
   ]
  },
  {
   "cell_type": "code",
   "execution_count": 16,
   "id": "d3b55ec8-f89f-4812-9990-44ef5bc4a3c0",
   "metadata": {},
   "outputs": [],
   "source": [
    "name = 'Tushar'"
   ]
  },
  {
   "cell_type": "code",
   "execution_count": 17,
   "id": "fba6597e-0649-438c-81bb-302ff1b309b7",
   "metadata": {},
   "outputs": [
    {
     "data": {
      "text/plain": [
       "str"
      ]
     },
     "execution_count": 17,
     "metadata": {},
     "output_type": "execute_result"
    }
   ],
   "source": [
    "type(name)"
   ]
  },
  {
   "cell_type": "code",
   "execution_count": 18,
   "id": "22f794ad-dffc-4635-ab67-67850f345e34",
   "metadata": {},
   "outputs": [
    {
     "data": {
      "text/plain": [
       "str"
      ]
     },
     "execution_count": 18,
     "metadata": {},
     "output_type": "execute_result"
    }
   ],
   "source": [
    "name = \"Tushar@123\"\n",
    "type(name)"
   ]
  },
  {
   "cell_type": "code",
   "execution_count": 19,
   "id": "af375d6b-4f1c-4168-9ad1-0545d72d8054",
   "metadata": {},
   "outputs": [],
   "source": [
    "name1 = \"Tushar\"\n",
    "name2 = \"Pune\""
   ]
  },
  {
   "cell_type": "code",
   "execution_count": 20,
   "id": "80c643c0-4410-4489-bb44-1f704616abc0",
   "metadata": {},
   "outputs": [
    {
     "name": "stdout",
     "output_type": "stream",
     "text": [
      "TusharPune\n"
     ]
    }
   ],
   "source": [
    "name3 = name1 + name2\n",
    "print(name3)"
   ]
  },
  {
   "cell_type": "code",
   "execution_count": 21,
   "id": "c9ed8e38-06d6-4ada-9034-31d62d5045fd",
   "metadata": {},
   "outputs": [
    {
     "name": "stdout",
     "output_type": "stream",
     "text": [
      "Hello World\n"
     ]
    }
   ],
   "source": [
    "print(\"Hello World\")"
   ]
  },
  {
   "cell_type": "code",
   "execution_count": 22,
   "id": "0d5bfc96-13bf-4c21-9097-5f245cecfc2b",
   "metadata": {},
   "outputs": [
    {
     "name": "stdout",
     "output_type": "stream",
     "text": [
      "Hello\n",
      "World\n"
     ]
    }
   ],
   "source": [
    "print(\"Hello\\nWorld\")    # new line"
   ]
  },
  {
   "cell_type": "code",
   "execution_count": 23,
   "id": "ab89577f-d165-4181-adde-67c36feacad9",
   "metadata": {},
   "outputs": [
    {
     "name": "stdout",
     "output_type": "stream",
     "text": [
      "Hello\tWorld\n"
     ]
    }
   ],
   "source": [
    "print(\"Hello\\tWorld\")"
   ]
  },
  {
   "cell_type": "code",
   "execution_count": 25,
   "id": "7637f588-5a79-4b21-9f9d-8ebf60085404",
   "metadata": {},
   "outputs": [
    {
     "name": "stdout",
     "output_type": "stream",
     "text": [
      "World\n"
     ]
    }
   ],
   "source": [
    "print(\"Hello\\rWorld\")"
   ]
  },
  {
   "cell_type": "code",
   "execution_count": 26,
   "id": "41c2d52c-ec85-484d-bb8a-202fe0fdfe7e",
   "metadata": {},
   "outputs": [
    {
     "name": "stdout",
     "output_type": "stream",
     "text": [
      "HellWorld\n"
     ]
    }
   ],
   "source": [
    "print(\"Hello\\bWorld\")"
   ]
  },
  {
   "cell_type": "code",
   "execution_count": 27,
   "id": "e14348ab-dc8b-4420-b4c6-212f8ff35996",
   "metadata": {},
   "outputs": [],
   "source": [
    "name = 'tushar'"
   ]
  },
  {
   "cell_type": "code",
   "execution_count": 28,
   "id": "1603274e-fbad-428f-ba33-f50ddab71062",
   "metadata": {},
   "outputs": [
    {
     "data": {
      "text/plain": [
       "'TUSHAR'"
      ]
     },
     "execution_count": 28,
     "metadata": {},
     "output_type": "execute_result"
    }
   ],
   "source": [
    "name.upper()"
   ]
  },
  {
   "cell_type": "code",
   "execution_count": 29,
   "id": "286dcad3-24ab-4537-8306-5627670ac271",
   "metadata": {},
   "outputs": [
    {
     "data": {
      "text/plain": [
       "'tushar'"
      ]
     },
     "execution_count": 29,
     "metadata": {},
     "output_type": "execute_result"
    }
   ],
   "source": [
    "name.lower()"
   ]
  },
  {
   "cell_type": "code",
   "execution_count": 30,
   "id": "8c6248a8-1e06-4375-a77b-b0f7360c9179",
   "metadata": {},
   "outputs": [
    {
     "data": {
      "text/plain": [
       "'Tushar'"
      ]
     },
     "execution_count": 30,
     "metadata": {},
     "output_type": "execute_result"
    }
   ],
   "source": [
    "name.title()"
   ]
  },
  {
   "cell_type": "code",
   "execution_count": 31,
   "id": "580867ab-99d1-4690-baf1-43f41051e6ba",
   "metadata": {},
   "outputs": [
    {
     "data": {
      "text/plain": [
       "True"
      ]
     },
     "execution_count": 31,
     "metadata": {},
     "output_type": "execute_result"
    }
   ],
   "source": [
    "name.isalpha()"
   ]
  },
  {
   "cell_type": "code",
   "execution_count": 32,
   "id": "b8f1667c-1db7-4bc0-a1dc-a38f0cd3e650",
   "metadata": {},
   "outputs": [
    {
     "data": {
      "text/plain": [
       "1"
      ]
     },
     "execution_count": 32,
     "metadata": {},
     "output_type": "execute_result"
    }
   ],
   "source": [
    "name.find('u')"
   ]
  },
  {
   "cell_type": "code",
   "execution_count": 33,
   "id": "006c67c6-4ba6-461d-898c-19e9737dda05",
   "metadata": {},
   "outputs": [
    {
     "data": {
      "text/plain": [
       "'tooshar'"
      ]
     },
     "execution_count": 33,
     "metadata": {},
     "output_type": "execute_result"
    }
   ],
   "source": [
    "name.replace('u','oo')"
   ]
  },
  {
   "cell_type": "code",
   "execution_count": 34,
   "id": "0c463cde-9a99-49c0-9b88-11c206111094",
   "metadata": {},
   "outputs": [
    {
     "data": {
      "text/plain": [
       "False"
      ]
     },
     "execution_count": 34,
     "metadata": {},
     "output_type": "execute_result"
    }
   ],
   "source": [
    "name.startswith('T')"
   ]
  },
  {
   "cell_type": "code",
   "execution_count": 35,
   "id": "70d321c2-aabd-4b67-a4db-834c72f91b17",
   "metadata": {},
   "outputs": [
    {
     "data": {
      "text/plain": [
       "True"
      ]
     },
     "execution_count": 35,
     "metadata": {},
     "output_type": "execute_result"
    }
   ],
   "source": [
    "name.endswith('ar')"
   ]
  },
  {
   "cell_type": "code",
   "execution_count": 36,
   "id": "77cfec6d-1fe4-4e68-bc1c-046e303c8c8d",
   "metadata": {},
   "outputs": [],
   "source": [
    "name = 'Tushar'\n",
    "marks = 76.45"
   ]
  },
  {
   "cell_type": "code",
   "execution_count": 38,
   "id": "5236254e-899a-4526-9d5f-2a68a2b69dc7",
   "metadata": {},
   "outputs": [
    {
     "name": "stdout",
     "output_type": "stream",
     "text": [
      "My name is Tushar and marks are: 76.45\n"
     ]
    }
   ],
   "source": [
    "print('My name is',name,'and marks are:', marks)"
   ]
  },
  {
   "cell_type": "code",
   "execution_count": 39,
   "id": "0f92cd3c-d668-43bb-94cb-8349b6ac139e",
   "metadata": {},
   "outputs": [
    {
     "name": "stdout",
     "output_type": "stream",
     "text": [
      "My name is Tushar and marks are: 76.450000\n"
     ]
    }
   ],
   "source": [
    "print('My name is %s and marks are: %f' %(name, marks))"
   ]
  },
  {
   "cell_type": "code",
   "execution_count": 40,
   "id": "9e073ad0-55df-4aec-ba79-9fee4bfbd775",
   "metadata": {},
   "outputs": [
    {
     "name": "stdout",
     "output_type": "stream",
     "text": [
      "My name is Tushar and marks are: 76.450000\n"
     ]
    }
   ],
   "source": [
    "print('My name is %s and marks are: %f' %(name, marks))"
   ]
  },
  {
   "cell_type": "code",
   "execution_count": null,
   "id": "5589252e-c923-4cb9-bd75-ae8b1c91073c",
   "metadata": {},
   "outputs": [],
   "source": []
  }
 ],
 "metadata": {
  "kernelspec": {
   "display_name": "Python 3 (ipykernel)",
   "language": "python",
   "name": "python3"
  },
  "language_info": {
   "codemirror_mode": {
    "name": "ipython",
    "version": 3
   },
   "file_extension": ".py",
   "mimetype": "text/x-python",
   "name": "python",
   "nbconvert_exporter": "python",
   "pygments_lexer": "ipython3",
   "version": "3.10.12"
  }
 },
 "nbformat": 4,
 "nbformat_minor": 5
}
